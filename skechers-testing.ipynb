{
 "cells": [
  {
   "cell_type": "markdown",
   "metadata": {},
   "source": [
    "## Imports"
   ]
  },
  {
   "cell_type": "code",
   "execution_count": 1,
   "metadata": {},
   "outputs": [],
   "source": [
    "import requests\n",
    "import json\n",
    "from urllib.parse import urljoin\n",
    "import pdfkit\n",
    "from os import getcwd,mkdir\n",
    "from os.path import join,exists"
   ]
  },
  {
   "cell_type": "markdown",
   "metadata": {},
   "source": [
    "### Get mens data"
   ]
  },
  {
   "cell_type": "code",
   "execution_count": 3,
   "metadata": {},
   "outputs": [
    {
     "name": "stdout",
     "output_type": "stream",
     "text": [
      "https://runrepeat.com/get-documents?from=0&orderBy=recommended_rank&r=1571438341036&filter[]=6290&filter[]=972&filter[]=454&filter[]=433&c_id=4&f_id=1\n",
      "https://runrepeat.com/get-documents?from=30&orderBy=recommended_rank&r=1571438341036&filter[]=6290&filter[]=972&filter[]=454&filter[]=433&c_id=4&f_id=1\n",
      "https://runrepeat.com/get-documents?from=60&orderBy=recommended_rank&r=1571438341036&filter[]=6290&filter[]=972&filter[]=454&filter[]=433&c_id=4&f_id=1\n",
      "https://runrepeat.com/get-documents?from=90&orderBy=recommended_rank&r=1571438341036&filter[]=6290&filter[]=972&filter[]=454&filter[]=433&c_id=4&f_id=1\n",
      "https://runrepeat.com/get-documents?from=120&orderBy=recommended_rank&r=1571438341036&filter[]=6290&filter[]=972&filter[]=454&filter[]=433&c_id=4&f_id=1\n",
      "https://runrepeat.com/get-documents?from=150&orderBy=recommended_rank&r=1571438341036&filter[]=6290&filter[]=972&filter[]=454&filter[]=433&c_id=4&f_id=1\n",
      "172\n"
     ]
    }
   ],
   "source": [
    "\n",
    "\n",
    "mensdata = []\n",
    "\n",
    "i=0\n",
    "while True:\n",
    "    \n",
    "    url = \"https://runrepeat.com/get-documents?from=\"+str(i*30)+\"&orderBy=recommended_rank&r=1571438341036&filter[]=6290&filter[]=972&filter[]=454&filter[]=433&c_id=4&f_id=1\"\n",
    "    print(url)\n",
    "    response = requests.get(url)\n",
    "    newdata =json.loads(response.content.decode())\n",
    "    mensdata += newdata\n",
    "    if len(mensdata)>=156:\n",
    "        break\n",
    "    i+=1\n",
    "print(len(mensdata))\n"
   ]
  },
  {
   "cell_type": "markdown",
   "metadata": {},
   "source": [
    "### Get womens data"
   ]
  },
  {
   "cell_type": "code",
   "execution_count": 5,
   "metadata": {},
   "outputs": [
    {
     "name": "stdout",
     "output_type": "stream",
     "text": [
      "https://runrepeat.com/get-documents?from=0&orderBy=relevance&r=1571595715551&filter%5B%5D=454&filter%5B%5D=6290&filter%5B%5D=434&c_id=4&f_id=1\n",
      "https://runrepeat.com/get-documents?from=30&orderBy=relevance&r=1571595715551&filter%5B%5D=454&filter%5B%5D=6290&filter%5B%5D=434&c_id=4&f_id=1\n",
      "https://runrepeat.com/get-documents?from=60&orderBy=relevance&r=1571595715551&filter%5B%5D=454&filter%5B%5D=6290&filter%5B%5D=434&c_id=4&f_id=1\n",
      "https://runrepeat.com/get-documents?from=90&orderBy=relevance&r=1571595715551&filter%5B%5D=454&filter%5B%5D=6290&filter%5B%5D=434&c_id=4&f_id=1\n",
      "https://runrepeat.com/get-documents?from=120&orderBy=relevance&r=1571595715551&filter%5B%5D=454&filter%5B%5D=6290&filter%5B%5D=434&c_id=4&f_id=1\n",
      "https://runrepeat.com/get-documents?from=150&orderBy=relevance&r=1571595715551&filter%5B%5D=454&filter%5B%5D=6290&filter%5B%5D=434&c_id=4&f_id=1\n",
      "https://runrepeat.com/get-documents?from=180&orderBy=relevance&r=1571595715551&filter%5B%5D=454&filter%5B%5D=6290&filter%5B%5D=434&c_id=4&f_id=1\n",
      "https://runrepeat.com/get-documents?from=210&orderBy=relevance&r=1571595715551&filter%5B%5D=454&filter%5B%5D=6290&filter%5B%5D=434&c_id=4&f_id=1\n",
      "227\n"
     ]
    }
   ],
   "source": [
    "\n",
    "\n",
    "womensdata = []\n",
    "\n",
    "i=0\n",
    "while True:\n",
    "    url =\"https://runrepeat.com/get-documents?from=\"+str(i*30)+\"&orderBy=relevance&r=1571595715551&filter%5B%5D=454&filter%5B%5D=6290&filter%5B%5D=434&c_id=4&f_id=1\"\n",
    "    print(url)\n",
    "    response = requests.get(url)\n",
    "    newdata =json.loads(response.content.decode())\n",
    "    womensdata += newdata\n",
    "    if len(womensdata)>=210:\n",
    "        break\n",
    "    i+=1\n",
    "print(len(womensdata))"
   ]
  },
  {
   "cell_type": "markdown",
   "metadata": {},
   "source": [
    "### Join the datas together"
   ]
  },
  {
   "cell_type": "code",
   "execution_count": 6,
   "metadata": {},
   "outputs": [],
   "source": [
    "alldata = mensdata+womensdata"
   ]
  },
  {
   "cell_type": "code",
   "execution_count": 7,
   "metadata": {},
   "outputs": [],
   "source": [
    "\n",
    "skechers_html_folder = join(getcwd(),'Skechers_HTML')\n",
    "skechers_pdf_folder = join(getcwd(),'Skechers_PDF')\n",
    "\n",
    "if not exists(skechers_html_folder):\n",
    "    mkdir(skechers_html_folder)\n",
    "if not exists(skechers_pdf_folder):\n",
    "    mkdir(skechers_pdf_folder)\n",
    "options = {\n",
    "    'page-size': 'Letter',\n",
    "    'margin-top': '0in',\n",
    "    'margin-right': '0in',\n",
    "    'margin-bottom': '0in',\n",
    "    'margin-left': '0in',\n",
    "}\n",
    "\n"
   ]
  },
  {
   "cell_type": "code",
   "execution_count": 8,
   "metadata": {},
   "outputs": [],
   "source": [
    "stylesheet = '<link rel=\"stylesheet\" type=\"text/css\" href=\"style.css\" media=\"all\">'\n",
    "\n",
    "\n",
    "with open(join(skechers_html_folder,'test.html'.format(i)), 'w') as fileobj:\n",
    "    fileobj.write(stylesheet)\n",
    "    \n",
    "    \n",
    "    for i in range(len(alldata)):\n",
    "        shoe = alldata[i]\n",
    "        shoename = shoe['name']\n",
    "        shoeurl = urljoin('https://runrepeat.com/',shoe['slug'])\n",
    "        shoeimg = shoe['colors'][0]['images']['lg']['url']\n",
    "        \n",
    "        fileobj.write(\"<div>\")\n",
    "        fileobj.write('<img src=\"'+shoeimg+'\">')\n",
    "        fileobj.write(\"<h3>\")\n",
    "        fileobj.write('<a href=\"'+shoeurl+'\">'+shoename+'</a>')\n",
    "        fileobj.write(\"</h3>\")\n",
    "        fileobj.write(\"</div>\")\n",
    "\n",
    "        \n",
    "#         for j in range(len(shoe['colors'])):\n",
    "#             print(shoe['colors'][j]['images']['lg']['url'])"
   ]
  },
  {
   "cell_type": "code",
   "execution_count": 9,
   "metadata": {},
   "outputs": [
    {
     "name": "stdout",
     "output_type": "stream",
     "text": [
      "Loading pages (1/6)\r\n",
      "[>                                                           ] 0%\r",
      "[======>                                                     ] 10%\r",
      "[======>                                                     ] 11%\r",
      "[======>                                                     ] 11%\r",
      "[=======>                                                    ] 13%\r",
      "[=========>                                                  ] 15%\r",
      "[==========>                                                 ] 18%\r",
      "[============>                                               ] 20%\r",
      "[=============>                                              ] 22%\r",
      "[==============>                                             ] 24%\r",
      "[===============>                                            ] 26%\r",
      "[================>                                           ] 28%\r",
      "[==================>                                         ] 30%\r",
      "[===================>                                        ] 32%\r",
      "[====================>                                       ] 34%\r",
      "[=====================>                                      ] 36%\r",
      "[======================>                                     ] 38%\r",
      "[========================>                                   ] 40%\r",
      "[=========================>                                  ] 43%\r",
      "[===========================>                                ] 45%\r",
      "[============================>                               ] 47%\r",
      "[=============================>                              ] 49%\r",
      "[==============================>                             ] 51%\r",
      "[===============================>                            ] 53%\r",
      "[=================================>                          ] 55%\r",
      "[==================================>                         ] 57%\r",
      "[===================================>                        ] 59%\r",
      "[=====================================>                      ] 62%\r",
      "[======================================>                     ] 64%\r",
      "[=======================================>                    ] 66%\r",
      "[========================================>                   ] 68%\r",
      "[==========================================>                 ] 70%\r",
      "[===========================================>                ] 72%\r",
      "[============================================>               ] 74%\r",
      "[=============================================>              ] 76%\r",
      "[==============================================>             ] 78%\r",
      "[================================================>           ] 81%\r",
      "[=================================================>          ] 83%\r",
      "[===================================================>        ] 85%\r",
      "[====================================================>       ] 87%\r",
      "[=====================================================>      ] 89%\r",
      "[============================================================] 100%\r",
      "Counting pages (2/6)                                               \r\n",
      "[============================================================] Object 1 of 1\r",
      "Resolving links (4/6)                                                       \r\n",
      "[============================================================] Object 1 of 1\r",
      "Loading headers and footers (5/6)                                           \r\n",
      "Printing pages (6/6)\r\n",
      "[>                                                           ] Preparing\r",
      "[===>                                                        ] Page 1 of 18\r",
      "[======>                                                     ] Page 2 of 18\r",
      "[=========>                                                  ] Page 3 of 18\r",
      "[=============>                                              ] Page 4 of 18\r",
      "[================>                                           ] Page 5 of 18\r",
      "[===================>                                        ] Page 6 of 18\r",
      "[======================>                                     ] Page 7 of 18\r",
      "[==========================>                                 ] Page 8 of 18\r",
      "[==============================>                             ] Page 9 of 18\r",
      "[=================================>                          ] Page 10 of 18\r",
      "[====================================>                       ] Page 11 of 18\r",
      "[=======================================>                    ] Page 12 of 18\r",
      "[===========================================>                ] Page 13 of 18\r",
      "[==============================================>             ] Page 14 of 18\r",
      "[=================================================>          ] Page 15 of 18\r",
      "[====================================================>       ] Page 16 of 18\r",
      "[========================================================>   ] Page 17 of 18\r",
      "[============================================================] Page 18 of 18\r",
      "Done                                                                        \r\n"
     ]
    },
    {
     "data": {
      "text/plain": [
       "True"
      ]
     },
     "execution_count": 9,
     "metadata": {},
     "output_type": "execute_result"
    }
   ],
   "source": [
    "\n",
    "pdfkit.from_file(join(skechers_html_folder,'test.html'), join(skechers_pdf_folder,'{}.pdf'.format('test')), options=options)\n"
   ]
  },
  {
   "cell_type": "code",
   "execution_count": null,
   "metadata": {},
   "outputs": [],
   "source": []
  }
 ],
 "metadata": {
  "kernelspec": {
   "display_name": "Python 3",
   "language": "python",
   "name": "python3"
  },
  "language_info": {
   "codemirror_mode": {
    "name": "ipython",
    "version": 3
   },
   "file_extension": ".py",
   "mimetype": "text/x-python",
   "name": "python",
   "nbconvert_exporter": "python",
   "pygments_lexer": "ipython3",
   "version": "3.7.4"
  }
 },
 "nbformat": 4,
 "nbformat_minor": 2
}
