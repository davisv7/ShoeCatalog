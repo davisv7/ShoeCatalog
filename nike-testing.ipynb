{
 "cells": [
  {
   "cell_type": "markdown",
   "metadata": {},
   "source": [
    "## Imports"
   ]
  },
  {
   "cell_type": "code",
   "execution_count": 1,
   "metadata": {},
   "outputs": [],
   "source": [
    "import requests\n",
    "import pdfkit\n",
    "from os.path import join,exists\n",
    "from os import getcwd,mkdir\n",
    "from bs4 import BeautifulSoup as bs"
   ]
  },
  {
   "cell_type": "markdown",
   "metadata": {},
   "source": [
    "## Nike Constants"
   ]
  },
  {
   "cell_type": "code",
   "execution_count": 2,
   "metadata": {},
   "outputs": [],
   "source": [
    "cookies = {\n",
    "    'lagrange_session': '78a6fb2e-f1ed-11e9-b0be-cf06d594ed11',\n",
    "    'CACHED_FRONT_FORM_KEY': 'mE9UVibGtdlbyPtx',\n",
    "    '__zlcmid': 'upicb22VdhuyqC',\n",
    "    'LAST_CATEGORY': '396',\n",
    "    'CATEGORY_INFO': '%7B%22p%22%3A%228%22%7D',\n",
    "    'frontend_cid': 'zQHoucc45EIky8xk',\n",
    "    'frontend': '33sh3fdbs369p734onrgadmfe5',\n",
    "}\n",
    "headers = {\n",
    "    'User-Agent': 'Mozilla/5.0 (Windows NT 10.0; Win64; x64; rv:69.0) Gecko/20100101 Firefox/69.0',\n",
    "    'Accept': 'text/html, */*; q=0.01',\n",
    "    'Accept-Language': 'en-US,en;q=0.5',\n",
    "    'X-Requested-With': 'XMLHttpRequest',\n",
    "    'DNT': '1',\n",
    "    'Connection': 'keep-alive',\n",
    "    'Referer': 'https://m.sneakerhead.com/nike-archive.html',\n",
    "    'TE': 'Trailers',\n",
    "}\n",
    "\n",
    "options = {\n",
    "    'page-size': 'Letter',\n",
    "    'margin-top': '0in',\n",
    "    'margin-right': '0in',\n",
    "    'margin-bottom': '0in',\n",
    "    'margin-left': '0in',\n",
    "}\n",
    "\n",
    "nike_html_folder = join(getcwd(),'Nike_HTML')\n",
    "nike_pdf_folder = join(getcwd(),'Nike_PDF')\n",
    "\n",
    "\n",
    "\n",
    "if not exists(nike_html_folder):\n",
    "    mkdir(nike_html_folder)\n",
    "\n",
    "if not exists(nike_pdf_folder):\n",
    "    mkdir(nike_pdf_folder)"
   ]
  },
  {
   "cell_type": "markdown",
   "metadata": {},
   "source": [
    "## Nike Block"
   ]
  },
  {
   "cell_type": "code",
   "execution_count": null,
   "metadata": {},
   "outputs": [],
   "source": [
    "# the first page is actually the first 4 pages\n",
    "\n",
    "    \n",
    "page_start=1\n",
    "page_end=47\n",
    "html_files = []\n",
    "for i in range(page_start,page_end+1):\n",
    "#     params = (\n",
    "#         ('p', str(i)),\n",
    "#     )\n",
    "\n",
    "#     if i in [2,3,4]:\n",
    "#         continue\n",
    "    response = requests.get('https://www.sneakerhead.com/nike-archive.html?p={0}&limit=300'.format(i), headers=headers)\n",
    "\n",
    "\n",
    "    soup = bs(response.content, 'html.parser')\n",
    "    \n",
    "    shoes = soup.find('div',id=\"cat-item-wrap\")\n",
    "    \n",
    "    fonts = '<link rel=\"stylesheet\" type=\"text/css\" href=\"https://m.sneakerhead.com/skin/frontend/default/mobile/css/fonts.css\" media=\"all\"/>'\n",
    "    stylesheet = '<link rel=\"stylesheet\" type=\"text/css\" href=\"style.css\" media=\"all\"/>'\n",
    "#     print(fonts)\n",
    "#     print(stylesheet)\n",
    "    \n",
    "    \n",
    "    \n",
    "    with open(join(nike_html_folder,'{}.html'.format(i)), 'w') as fileobj:\n",
    "        fileobj.write(fonts)\n",
    "        fileobj.write(stylesheet)\n",
    "        fileobj.write(str(shoes))\n",
    "    html_files.append(join(nike_html_folder,'{}.html'.format(i)))\n",
    "\n",
    "\n",
    "pdfkit.from_file(html_files, join(nike_pdf_folder,'{}.pdf'.format(i)), options=options)\n",
    "\n",
    "    \n",
    "    "
   ]
  },
  {
   "cell_type": "code",
   "execution_count": null,
   "metadata": {},
   "outputs": [],
   "source": []
  }
 ],
 "metadata": {
  "kernelspec": {
   "display_name": "Python 3",
   "language": "python",
   "name": "python3"
  },
  "language_info": {
   "codemirror_mode": {
    "name": "ipython",
    "version": 3
   },
   "file_extension": ".py",
   "mimetype": "text/x-python",
   "name": "python",
   "nbconvert_exporter": "python",
   "pygments_lexer": "ipython3",
   "version": "3.7.4"
  }
 },
 "nbformat": 4,
 "nbformat_minor": 2
}
