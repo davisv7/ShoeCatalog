{
 "cells": [
  {
   "cell_type": "markdown",
   "metadata": {},
   "source": [
    "## Imports"
   ]
  },
  {
   "cell_type": "code",
   "execution_count": 1,
   "metadata": {},
   "outputs": [],
   "source": [
    "import requests\n",
    "import pdfkit\n",
    "from os.path import join,exists\n",
    "from os import getcwd,mkdir\n",
    "from bs4 import BeautifulSoup as bs"
   ]
  },
  {
   "cell_type": "markdown",
   "metadata": {},
   "source": [
    "## Adidas Constants"
   ]
  },
  {
   "cell_type": "code",
   "execution_count": 2,
   "metadata": {},
   "outputs": [],
   "source": [
    "cookies = {\n",
    "    'CACHED_FRONT_FORM_KEY': 'gfai7jZceDf4VG7u',\n",
    "    '__zlcmid': 'upicb22VdhuyqC',\n",
    "    'LAST_CATEGORY': '376',\n",
    "    'CATEGORY_INFO': '%7B%22limit%22%3A%2280%22%2C%22p%22%3A%223%22%7D',\n",
    "    'lagrange_session': '64f620ce-f21e-11e9-8977-0555abf60f55',\n",
    "    'frontend_cid': 'zQHoucc45EIky8xk',\n",
    "    'frontend': '33sh3fdbs369p734onrgadmfe5',\n",
    "}\n",
    "\n",
    "headers = {\n",
    "    'User-Agent': 'Mozilla/5.0 (Windows NT 10.0; Win64; x64; rv:69.0) Gecko/20100101 Firefox/69.0',\n",
    "    'Accept': 'text/html, */*; q=0.01',\n",
    "    'Accept-Language': 'en-US,en;q=0.5',\n",
    "    'X-Requested-With': 'XMLHttpRequest',\n",
    "    'DNT': '1',\n",
    "    'Connection': 'keep-alive',\n",
    "    'Referer': 'https://m.sneakerhead.com/adidas-archive.html',\n",
    "    'TE': 'Trailers',\n",
    "}\n",
    "\n",
    "\n",
    "options = {\n",
    "    'page-size': 'Letter',\n",
    "    'margin-top': '0in',\n",
    "    'margin-right': '0in',\n",
    "    'margin-bottom': '0in',\n",
    "    'margin-left': '0in',\n",
    "}\n",
    "\n",
    "adidas_html_folder = join(getcwd(),'Adidas_HTML')\n",
    "adidas_pdf_folder = join(getcwd(),'Adidas_PDF')\n",
    "\n",
    "\n",
    "\n",
    "if not exists(adidas_html_folder):\n",
    "    mkdir(adidas_html_folder)\n",
    "\n",
    "if not exists(adidas_pdf_folder):\n",
    "    mkdir(adidas_pdf_folder)"
   ]
  },
  {
   "cell_type": "markdown",
   "metadata": {},
   "source": [
    "## Adidas Block"
   ]
  },
  {
   "cell_type": "code",
   "execution_count": 3,
   "metadata": {},
   "outputs": [
    {
     "ename": "OSError",
     "evalue": "No wkhtmltopdf executable found: \"b'D:\\\\SideProjects\\\\RipNike\\\\wkhtmltopdf.exe\\r\\nC:\\\\Program Files\\\\wkhtmltopdf\\\\bin\\\\wkhtmltopdf.exe'\"\nIf this file exists please check that this process can read it. Otherwise please install wkhtmltopdf - https://github.com/JazzCore/python-pdfkit/wiki/Installing-wkhtmltopdf",
     "output_type": "error",
     "traceback": [
      "\u001b[1;31m---------------------------------------------------------------------------\u001b[0m",
      "\u001b[1;31mOSError\u001b[0m                                   Traceback (most recent call last)",
      "\u001b[1;32md:\\sideprojects\\ripnike\\venv\\lib\\site-packages\\pdfkit\\configuration.py\u001b[0m in \u001b[0;36m__init__\u001b[1;34m(self, wkhtmltopdf, meta_tag_prefix)\u001b[0m\n\u001b[0;32m     20\u001b[0m         \u001b[1;32mtry\u001b[0m\u001b[1;33m:\u001b[0m\u001b[1;33m\u001b[0m\u001b[1;33m\u001b[0m\u001b[0m\n\u001b[1;32m---> 21\u001b[1;33m             \u001b[1;32mwith\u001b[0m \u001b[0mopen\u001b[0m\u001b[1;33m(\u001b[0m\u001b[0mself\u001b[0m\u001b[1;33m.\u001b[0m\u001b[0mwkhtmltopdf\u001b[0m\u001b[1;33m)\u001b[0m \u001b[1;32mas\u001b[0m \u001b[0mf\u001b[0m\u001b[1;33m:\u001b[0m\u001b[1;33m\u001b[0m\u001b[1;33m\u001b[0m\u001b[0m\n\u001b[0m\u001b[0;32m     22\u001b[0m                 \u001b[1;32mpass\u001b[0m\u001b[1;33m\u001b[0m\u001b[1;33m\u001b[0m\u001b[0m\n",
      "\u001b[1;31mOSError\u001b[0m: [Errno 22] Invalid argument: b'D:\\\\SideProjects\\\\RipNike\\\\wkhtmltopdf.exe\\r\\nC:\\\\Program Files\\\\wkhtmltopdf\\\\bin\\\\wkhtmltopdf.exe'",
      "\nDuring handling of the above exception, another exception occurred:\n",
      "\u001b[1;31mOSError\u001b[0m                                   Traceback (most recent call last)",
      "\u001b[1;32m<ipython-input-3-0182cd23d186>\u001b[0m in \u001b[0;36m<module>\u001b[1;34m\u001b[0m\n\u001b[0;32m     33\u001b[0m \u001b[1;33m\u001b[0m\u001b[0m\n\u001b[0;32m     34\u001b[0m \u001b[1;33m\u001b[0m\u001b[0m\n\u001b[1;32m---> 35\u001b[1;33m \u001b[0mpdfkit\u001b[0m\u001b[1;33m.\u001b[0m\u001b[0mfrom_file\u001b[0m\u001b[1;33m(\u001b[0m\u001b[0mhtml_files\u001b[0m\u001b[1;33m,\u001b[0m \u001b[0mjoin\u001b[0m\u001b[1;33m(\u001b[0m\u001b[0madidas_pdf_folder\u001b[0m\u001b[1;33m,\u001b[0m\u001b[1;34m'{}.pdf'\u001b[0m\u001b[1;33m.\u001b[0m\u001b[0mformat\u001b[0m\u001b[1;33m(\u001b[0m\u001b[0mi\u001b[0m\u001b[1;33m)\u001b[0m\u001b[1;33m)\u001b[0m\u001b[1;33m,\u001b[0m \u001b[0moptions\u001b[0m\u001b[1;33m=\u001b[0m\u001b[0moptions\u001b[0m\u001b[1;33m)\u001b[0m\u001b[1;33m\u001b[0m\u001b[1;33m\u001b[0m\u001b[0m\n\u001b[0m\u001b[0;32m     36\u001b[0m \u001b[1;33m\u001b[0m\u001b[0m\n\u001b[0;32m     37\u001b[0m \u001b[1;33m\u001b[0m\u001b[0m\n",
      "\u001b[1;32md:\\sideprojects\\ripnike\\venv\\lib\\site-packages\\pdfkit\\api.py\u001b[0m in \u001b[0;36mfrom_file\u001b[1;34m(input, output_path, options, toc, cover, css, configuration, cover_first)\u001b[0m\n\u001b[0;32m     45\u001b[0m \u001b[1;33m\u001b[0m\u001b[0m\n\u001b[0;32m     46\u001b[0m     r = PDFKit(input, 'file', options=options, toc=toc, cover=cover, css=css,\n\u001b[1;32m---> 47\u001b[1;33m                configuration=configuration, cover_first=cover_first)\n\u001b[0m\u001b[0;32m     48\u001b[0m \u001b[1;33m\u001b[0m\u001b[0m\n\u001b[0;32m     49\u001b[0m     \u001b[1;32mreturn\u001b[0m \u001b[0mr\u001b[0m\u001b[1;33m.\u001b[0m\u001b[0mto_pdf\u001b[0m\u001b[1;33m(\u001b[0m\u001b[0moutput_path\u001b[0m\u001b[1;33m)\u001b[0m\u001b[1;33m\u001b[0m\u001b[1;33m\u001b[0m\u001b[0m\n",
      "\u001b[1;32md:\\sideprojects\\ripnike\\venv\\lib\\site-packages\\pdfkit\\pdfkit.py\u001b[0m in \u001b[0;36m__init__\u001b[1;34m(self, url_or_file, type_, options, toc, cover, css, configuration, cover_first)\u001b[0m\n\u001b[0;32m     40\u001b[0m \u001b[1;33m\u001b[0m\u001b[0m\n\u001b[0;32m     41\u001b[0m         \u001b[0mself\u001b[0m\u001b[1;33m.\u001b[0m\u001b[0msource\u001b[0m \u001b[1;33m=\u001b[0m \u001b[0mSource\u001b[0m\u001b[1;33m(\u001b[0m\u001b[0murl_or_file\u001b[0m\u001b[1;33m,\u001b[0m \u001b[0mtype_\u001b[0m\u001b[1;33m)\u001b[0m\u001b[1;33m\u001b[0m\u001b[1;33m\u001b[0m\u001b[0m\n\u001b[1;32m---> 42\u001b[1;33m         self.configuration = (Configuration() if configuration is None\n\u001b[0m\u001b[0;32m     43\u001b[0m                               else configuration)\n\u001b[0;32m     44\u001b[0m         \u001b[1;32mtry\u001b[0m\u001b[1;33m:\u001b[0m\u001b[1;33m\u001b[0m\u001b[1;33m\u001b[0m\u001b[0m\n",
      "\u001b[1;32md:\\sideprojects\\ripnike\\venv\\lib\\site-packages\\pdfkit\\configuration.py\u001b[0m in \u001b[0;36m__init__\u001b[1;34m(self, wkhtmltopdf, meta_tag_prefix)\u001b[0m\n\u001b[0;32m     25\u001b[0m                           \u001b[1;34m'If this file exists please check that this process can '\u001b[0m\u001b[1;33m\u001b[0m\u001b[1;33m\u001b[0m\u001b[0m\n\u001b[0;32m     26\u001b[0m                           \u001b[1;34m'read it. Otherwise please install wkhtmltopdf - '\u001b[0m\u001b[1;33m\u001b[0m\u001b[1;33m\u001b[0m\u001b[0m\n\u001b[1;32m---> 27\u001b[1;33m                           'https://github.com/JazzCore/python-pdfkit/wiki/Installing-wkhtmltopdf' % self.wkhtmltopdf)\n\u001b[0m",
      "\u001b[1;31mOSError\u001b[0m: No wkhtmltopdf executable found: \"b'D:\\\\SideProjects\\\\RipNike\\\\wkhtmltopdf.exe\\r\\nC:\\\\Program Files\\\\wkhtmltopdf\\\\bin\\\\wkhtmltopdf.exe'\"\nIf this file exists please check that this process can read it. Otherwise please install wkhtmltopdf - https://github.com/JazzCore/python-pdfkit/wiki/Installing-wkhtmltopdf"
     ]
    }
   ],
   "source": [
    "# the first page is actually the first 4 pages\n",
    "\n",
    "    \n",
    "page_start=1\n",
    "page_end=13\n",
    "html_files = []\n",
    "for i in range(page_start,page_end+1):\n",
    "#     params = (\n",
    "#         ('p', str(i)),\n",
    "#     )\n",
    "\n",
    "#     if i in [2,3,4]:\n",
    "#         continue\n",
    "    response = requests.get('https://www.sneakerhead.com/adidas-archive.html?p={0}&limit=300'.format(i), headers=headers)\n",
    "\n",
    "\n",
    "    soup = bs(response.content, 'html.parser')\n",
    "    \n",
    "    shoes = soup.find('div',id=\"cat-item-wrap\")\n",
    "    \n",
    "    fonts = '<link rel=\"stylesheet\" type=\"text/css\" href=\"https://m.sneakerhead.com/skin/frontend/default/mobile/css/fonts.css\" media=\"all\"/>'\n",
    "    stylesheet = '<link rel=\"stylesheet\" type=\"text/css\" href=\"style.css\" media=\"all\"/>'\n",
    "#     print(fonts)\n",
    "#     print(stylesheet)\n",
    "    \n",
    "    \n",
    "    \n",
    "    with open(join(adidas_html_folder,'{}.html'.format(i)), 'w') as fileobj:\n",
    "        fileobj.write(fonts)\n",
    "        fileobj.write(stylesheet)\n",
    "        fileobj.write(str(shoes))\n",
    "    html_files.append(join(adidas_html_folder,'{}.html'.format(i)))\n",
    "\n",
    "\n",
    "\n",
    "    \n",
    "    "
   ]
  },
  {
   "cell_type": "code",
   "execution_count": null,
   "metadata": {},
   "outputs": [],
   "source": [
    "pdfkit.from_file(html_files, join(adidas_pdf_folder,'{}.pdf'.format(i)), options=options)\n"
   ]
  },
  {
   "cell_type": "code",
   "execution_count": null,
   "metadata": {},
   "outputs": [],
   "source": []
  }
 ],
 "metadata": {
  "kernelspec": {
   "display_name": "Python 3",
   "language": "python",
   "name": "python3"
  },
  "language_info": {
   "codemirror_mode": {
    "name": "ipython",
    "version": 3
   },
   "file_extension": ".py",
   "mimetype": "text/x-python",
   "name": "python",
   "nbconvert_exporter": "python",
   "pygments_lexer": "ipython3",
   "version": "3.7.4"
  }
 },
 "nbformat": 4,
 "nbformat_minor": 2
}
